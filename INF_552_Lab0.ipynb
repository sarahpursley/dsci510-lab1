{
  "nbformat": 4,
  "nbformat_minor": 0,
  "metadata": {
    "kernelspec": {
      "display_name": "Python 3",
      "language": "python",
      "name": "python3"
    },
    "language_info": {
      "codemirror_mode": {
        "name": "ipython",
        "version": 3
      },
      "file_extension": ".py",
      "mimetype": "text/x-python",
      "name": "python",
      "nbconvert_exporter": "python",
      "pygments_lexer": "ipython3",
      "version": "3.7.4"
    },
    "toc": {
      "base_numbering": 1,
      "nav_menu": {},
      "number_sections": true,
      "sideBar": true,
      "skip_h1_title": true,
      "title_cell": "Table of Contents",
      "title_sidebar": "Contents",
      "toc_cell": false,
      "toc_position": {
        "height": "calc(100% - 180px)",
        "left": "10px",
        "top": "150px",
        "width": "294.435px"
      },
      "toc_section_display": true,
      "toc_window_display": true
    },
    "colab": {
      "name": "INF-552 Lab0.ipynb",
      "provenance": [],
      "toc_visible": true,
      "include_colab_link": true
    }
  },
  "cells": [
    {
      "cell_type": "markdown",
      "metadata": {
        "id": "view-in-github",
        "colab_type": "text"
      },
      "source": [
        "<a href=\"https://colab.research.google.com/github/sarahpursley/dsci510-lab1/blob/master/INF_552_Lab0.ipynb\" target=\"_parent\"><img src=\"https://colab.research.google.com/assets/colab-badge.svg\" alt=\"Open In Colab\"/></a>"
      ]
    },
    {
      "cell_type": "markdown",
      "metadata": {
        "id": "9qY3EselJwhp"
      },
      "source": [
        "<center><h1>INF-552 Lab 0</h1></center>\n",
        "<br>\n",
        "<center><font size=\"4\">Introduction to Basic Development Tools</font></center>"
      ]
    },
    {
      "cell_type": "markdown",
      "metadata": {
        "id": "WHx3C4jyJwhq"
      },
      "source": [
        "### Rules"
      ]
    },
    {
      "cell_type": "markdown",
      "metadata": {
        "id": "dNi0VXdWJwhr"
      },
      "source": [
        "1. Please read the instructions and problem prompts **carefully**.\n",
        "2. This lab is to give you some basic APIs of numpy, pandas and scikit-learn. Besides, some topics such as how to make your jupyter notebook be a more efficient developing tools, how to use git and GitHub will also be covered. The lab is to be done individually. You may talk to your fellow classmates about general issues (\"Remind me again: Which API should I used for doing group by operation to a data set\") but about the specifies of how to do these exercises.\n",
        "3. Along with a similar vein, you can ask the TA for help, but ask questions about **concepts** but not ask the TA to help you debug your code. The TA is here to help, but not to do the work for you.\n",
        "4. You are welcome to use the class resources and the Internet.\n",
        "5. Playing with variations. Solve one problems, and then copy the code to a new cell and play around with it. Doing this is the single most important thing when learning programming.\n",
        "6. This lab will not be graded but the content is highly related to your future programming assignments. So, treat it wisely.\n",
        "7. All the content having been gone though in the week 1 discussion is just a snapshot of the most basic concepts. **You need to keep study more about Git, GitHub, Pandas, Numpy and Scikit-Learn in order to finish your programming assignments successfully.**\n",
        "8. Have fun!"
      ]
    },
    {
      "cell_type": "markdown",
      "metadata": {
        "id": "_SWrUYXeJwhs"
      },
      "source": [
        "### Setup Development Environment"
      ]
    },
    {
      "cell_type": "markdown",
      "metadata": {
        "id": "5d8wHkd-Jwhs"
      },
      "source": [
        "There are many ways to setup the environment. But, I do recommend a simple idea that is using the Anaconda, which is a pre-build python environment with bundles of useful packages.\n",
        "\n",
        "**To download the Anaconda, go to the following website:\n",
        "https://www.anaconda.com/distribution/**. Download the correct version based on your operating system and install it step by step.\n",
        "\n",
        "Then, **configure your PATH environment variable** to make the conda command work. The following command is an easy way to test whether your configuration is correct. If it is, you will see something as like as the sample output.\n",
        "\n",
        "> **command:**\n",
        ">\n",
        "> conda --version\n",
        ">\n",
        "> **sample output:**\n",
        ">\n",
        "> conda 4.6.12\n",
        "\n",
        "**Finally, download this jupyter notebook file,** then change the working directory to where its location in terminal, and type the following command to open the jupter notebook and finish the lab.\n",
        "\n",
        "> **command:** \n",
        "> jupyter notebook"
      ]
    },
    {
      "cell_type": "code",
      "metadata": {
        "ExecuteTime": {
          "end_time": "2020-01-14T19:44:42.243800Z",
          "start_time": "2020-01-14T19:44:41.609555Z"
        },
        "id": "82dMfxa9Jwht"
      },
      "source": [
        "import pandas as pd\n",
        "import numpy as np"
      ],
      "execution_count": 17,
      "outputs": []
    },
    {
      "cell_type": "markdown",
      "metadata": {
        "id": "Fs8uI-PlJwhu"
      },
      "source": [
        "### Pandas"
      ]
    },
    {
      "cell_type": "markdown",
      "metadata": {
        "id": "fB-gLELmJwhv"
      },
      "source": [
        "#### The read_csv() Method"
      ]
    },
    {
      "cell_type": "markdown",
      "metadata": {
        "id": "tFFGUy3JJwhv"
      },
      "source": [
        "First, read the documentation about the *read_csv()* method in Pandas (https://pandas.pydata.org/pandas-docs/stable/reference/api/pandas.read_csv.html). Then, try to read data from file Salaries.csv to a dataframe, make the column playerID in the csv file as the index column and the first row as the header. Also, skip the second row when reading the file."
      ]
    },
    {
      "cell_type": "code",
      "metadata": {
        "ExecuteTime": {
          "end_time": "2019-08-28T03:51:17.953542Z",
          "start_time": "2019-08-28T03:51:17.937799Z"
        },
        "colab": {
          "base_uri": "https://localhost:8080/",
          "height": 436
        },
        "id": "gYx89P2tJwhv",
        "outputId": "b6f15113-f84b-49ac-f8c9-e3d7e5d2a4c2"
      },
      "source": [
        "### DONE ###\n",
        "df_salaries = pd.read_csv('Salaries.csv', index_col = 'playerID', header = 0,\n",
        "                          skiprows = lambda x: x in [2])\n",
        "df_salaries"
      ],
      "execution_count": 21,
      "outputs": [
        {
          "output_type": "execute_result",
          "data": {
            "text/html": [
              "<div>\n",
              "<style scoped>\n",
              "    .dataframe tbody tr th:only-of-type {\n",
              "        vertical-align: middle;\n",
              "    }\n",
              "\n",
              "    .dataframe tbody tr th {\n",
              "        vertical-align: top;\n",
              "    }\n",
              "\n",
              "    .dataframe thead th {\n",
              "        text-align: right;\n",
              "    }\n",
              "</style>\n",
              "<table border=\"1\" class=\"dataframe\">\n",
              "  <thead>\n",
              "    <tr style=\"text-align: right;\">\n",
              "      <th></th>\n",
              "      <th>yearID</th>\n",
              "      <th>teamID</th>\n",
              "      <th>lgID</th>\n",
              "      <th>salary</th>\n",
              "    </tr>\n",
              "    <tr>\n",
              "      <th>playerID</th>\n",
              "      <th></th>\n",
              "      <th></th>\n",
              "      <th></th>\n",
              "      <th></th>\n",
              "    </tr>\n",
              "  </thead>\n",
              "  <tbody>\n",
              "    <tr>\n",
              "      <th>barkele01</th>\n",
              "      <td>1985</td>\n",
              "      <td>ATL</td>\n",
              "      <td>NL</td>\n",
              "      <td>870000</td>\n",
              "    </tr>\n",
              "    <tr>\n",
              "      <th>benedbr01</th>\n",
              "      <td>1985</td>\n",
              "      <td>ATL</td>\n",
              "      <td>NL</td>\n",
              "      <td>545000</td>\n",
              "    </tr>\n",
              "    <tr>\n",
              "      <th>campri01</th>\n",
              "      <td>1985</td>\n",
              "      <td>ATL</td>\n",
              "      <td>NL</td>\n",
              "      <td>633333</td>\n",
              "    </tr>\n",
              "    <tr>\n",
              "      <th>ceronri01</th>\n",
              "      <td>1985</td>\n",
              "      <td>ATL</td>\n",
              "      <td>NL</td>\n",
              "      <td>625000</td>\n",
              "    </tr>\n",
              "    <tr>\n",
              "      <th>chambch01</th>\n",
              "      <td>1985</td>\n",
              "      <td>ATL</td>\n",
              "      <td>NL</td>\n",
              "      <td>800000</td>\n",
              "    </tr>\n",
              "    <tr>\n",
              "      <th>...</th>\n",
              "      <td>...</td>\n",
              "      <td>...</td>\n",
              "      <td>...</td>\n",
              "      <td>...</td>\n",
              "    </tr>\n",
              "    <tr>\n",
              "      <th>treinbl01</th>\n",
              "      <td>2015</td>\n",
              "      <td>WAS</td>\n",
              "      <td>NL</td>\n",
              "      <td>512800</td>\n",
              "    </tr>\n",
              "    <tr>\n",
              "      <th>ugglada01</th>\n",
              "      <td>2015</td>\n",
              "      <td>WAS</td>\n",
              "      <td>NL</td>\n",
              "      <td>507500</td>\n",
              "    </tr>\n",
              "    <tr>\n",
              "      <th>werthja01</th>\n",
              "      <td>2015</td>\n",
              "      <td>WAS</td>\n",
              "      <td>NL</td>\n",
              "      <td>21000000</td>\n",
              "    </tr>\n",
              "    <tr>\n",
              "      <th>zimmejo02</th>\n",
              "      <td>2015</td>\n",
              "      <td>WAS</td>\n",
              "      <td>NL</td>\n",
              "      <td>16500000</td>\n",
              "    </tr>\n",
              "    <tr>\n",
              "      <th>zimmery01</th>\n",
              "      <td>2015</td>\n",
              "      <td>WAS</td>\n",
              "      <td>NL</td>\n",
              "      <td>14000000</td>\n",
              "    </tr>\n",
              "  </tbody>\n",
              "</table>\n",
              "<p>25574 rows × 4 columns</p>\n",
              "</div>"
            ],
            "text/plain": [
              "           yearID teamID lgID    salary\n",
              "playerID                               \n",
              "barkele01    1985    ATL   NL    870000\n",
              "benedbr01    1985    ATL   NL    545000\n",
              "campri01     1985    ATL   NL    633333\n",
              "ceronri01    1985    ATL   NL    625000\n",
              "chambch01    1985    ATL   NL    800000\n",
              "...           ...    ...  ...       ...\n",
              "treinbl01    2015    WAS   NL    512800\n",
              "ugglada01    2015    WAS   NL    507500\n",
              "werthja01    2015    WAS   NL  21000000\n",
              "zimmejo02    2015    WAS   NL  16500000\n",
              "zimmery01    2015    WAS   NL  14000000\n",
              "\n",
              "[25574 rows x 4 columns]"
            ]
          },
          "metadata": {
            "tags": []
          },
          "execution_count": 21
        }
      ]
    },
    {
      "cell_type": "code",
      "metadata": {
        "id": "INTuECEavQaq"
      },
      "source": [
        ""
      ],
      "execution_count": null,
      "outputs": []
    },
    {
      "cell_type": "markdown",
      "metadata": {
        "id": "1vcnYNgHJwhw"
      },
      "source": [
        "#### Indexing and Selecting Data"
      ]
    },
    {
      "cell_type": "markdown",
      "metadata": {
        "id": "23pzIsIZJwhw"
      },
      "source": [
        "Select the id of the players who are registered in ATL and HOU and whose salary is higher than one million."
      ]
    },
    {
      "cell_type": "code",
      "metadata": {
        "ExecuteTime": {
          "end_time": "2019-08-28T03:51:24.015061Z",
          "start_time": "2019-08-28T03:51:23.982621Z"
        },
        "colab": {
          "base_uri": "https://localhost:8080/",
          "height": 436
        },
        "id": "svhfyGBXJwhw",
        "outputId": "5be99dc7-6967-4e6c-f017-f9fea98123de"
      },
      "source": [
        "### DONE ###\n",
        "# use locate to satisfy conditions\n",
        "df_salaries_players = df_salaries.loc[(df_salaries[\"teamID\"]== 'ATL')|\n",
        "                                      (df_salaries[\"teamID\"]== 'HOU')].loc[df_salaries[\"salary\"] > 1000000]\n",
        "df_salaries_players"
      ],
      "execution_count": 5,
      "outputs": [
        {
          "output_type": "execute_result",
          "data": {
            "text/html": [
              "<div>\n",
              "<style scoped>\n",
              "    .dataframe tbody tr th:only-of-type {\n",
              "        vertical-align: middle;\n",
              "    }\n",
              "\n",
              "    .dataframe tbody tr th {\n",
              "        vertical-align: top;\n",
              "    }\n",
              "\n",
              "    .dataframe thead th {\n",
              "        text-align: right;\n",
              "    }\n",
              "</style>\n",
              "<table border=\"1\" class=\"dataframe\">\n",
              "  <thead>\n",
              "    <tr style=\"text-align: right;\">\n",
              "      <th></th>\n",
              "      <th>yearID</th>\n",
              "      <th>teamID</th>\n",
              "      <th>lgID</th>\n",
              "      <th>salary</th>\n",
              "    </tr>\n",
              "    <tr>\n",
              "      <th>playerID</th>\n",
              "      <th></th>\n",
              "      <th></th>\n",
              "      <th></th>\n",
              "      <th></th>\n",
              "    </tr>\n",
              "  </thead>\n",
              "  <tbody>\n",
              "    <tr>\n",
              "      <th>hornebo01</th>\n",
              "      <td>1985</td>\n",
              "      <td>ATL</td>\n",
              "      <td>NL</td>\n",
              "      <td>1500000</td>\n",
              "    </tr>\n",
              "    <tr>\n",
              "      <th>murphda05</th>\n",
              "      <td>1985</td>\n",
              "      <td>ATL</td>\n",
              "      <td>NL</td>\n",
              "      <td>1625000</td>\n",
              "    </tr>\n",
              "    <tr>\n",
              "      <th>suttebr01</th>\n",
              "      <td>1985</td>\n",
              "      <td>ATL</td>\n",
              "      <td>NL</td>\n",
              "      <td>1354167</td>\n",
              "    </tr>\n",
              "    <tr>\n",
              "      <th>ryanno01</th>\n",
              "      <td>1985</td>\n",
              "      <td>HOU</td>\n",
              "      <td>NL</td>\n",
              "      <td>1350000</td>\n",
              "    </tr>\n",
              "    <tr>\n",
              "      <th>hornebo01</th>\n",
              "      <td>1986</td>\n",
              "      <td>ATL</td>\n",
              "      <td>NL</td>\n",
              "      <td>1800000</td>\n",
              "    </tr>\n",
              "    <tr>\n",
              "      <th>...</th>\n",
              "      <td>...</td>\n",
              "      <td>...</td>\n",
              "      <td>...</td>\n",
              "      <td>...</td>\n",
              "    </tr>\n",
              "    <tr>\n",
              "      <th>quallch01</th>\n",
              "      <td>2015</td>\n",
              "      <td>HOU</td>\n",
              "      <td>AL</td>\n",
              "      <td>3000000</td>\n",
              "    </tr>\n",
              "    <tr>\n",
              "      <th>rasmuco01</th>\n",
              "      <td>2015</td>\n",
              "      <td>HOU</td>\n",
              "      <td>AL</td>\n",
              "      <td>8000000</td>\n",
              "    </tr>\n",
              "    <tr>\n",
              "      <th>singljo02</th>\n",
              "      <td>2015</td>\n",
              "      <td>HOU</td>\n",
              "      <td>AL</td>\n",
              "      <td>2000000</td>\n",
              "    </tr>\n",
              "    <tr>\n",
              "      <th>sippto01</th>\n",
              "      <td>2015</td>\n",
              "      <td>HOU</td>\n",
              "      <td>AL</td>\n",
              "      <td>2400000</td>\n",
              "    </tr>\n",
              "    <tr>\n",
              "      <th>valbulu01</th>\n",
              "      <td>2015</td>\n",
              "      <td>HOU</td>\n",
              "      <td>AL</td>\n",
              "      <td>4200000</td>\n",
              "    </tr>\n",
              "  </tbody>\n",
              "</table>\n",
              "<p>595 rows × 4 columns</p>\n",
              "</div>"
            ],
            "text/plain": [
              "           yearID teamID lgID   salary\n",
              "playerID                              \n",
              "hornebo01    1985    ATL   NL  1500000\n",
              "murphda05    1985    ATL   NL  1625000\n",
              "suttebr01    1985    ATL   NL  1354167\n",
              "ryanno01     1985    HOU   NL  1350000\n",
              "hornebo01    1986    ATL   NL  1800000\n",
              "...           ...    ...  ...      ...\n",
              "quallch01    2015    HOU   AL  3000000\n",
              "rasmuco01    2015    HOU   AL  8000000\n",
              "singljo02    2015    HOU   AL  2000000\n",
              "sippto01     2015    HOU   AL  2400000\n",
              "valbulu01    2015    HOU   AL  4200000\n",
              "\n",
              "[595 rows x 4 columns]"
            ]
          },
          "metadata": {
            "tags": []
          },
          "execution_count": 5
        }
      ]
    },
    {
      "cell_type": "markdown",
      "metadata": {
        "id": "NymSgsUjJwhw"
      },
      "source": [
        "#### The describe() Method"
      ]
    },
    {
      "cell_type": "markdown",
      "metadata": {
        "id": "dYdknv13Jwhx"
      },
      "source": [
        "Calculate the standard Deviation, first quartile, medium, third quartile, mean, maximum, minimum of the salary in team ATL."
      ]
    },
    {
      "cell_type": "code",
      "metadata": {
        "ExecuteTime": {
          "end_time": "2019-08-28T01:46:27.395276Z",
          "start_time": "2019-08-28T01:46:27.368849Z"
        },
        "id": "KOC06HgtJwhx",
        "colab": {
          "base_uri": "https://localhost:8080/"
        },
        "outputId": "0b5608f5-2d6c-43d9-915c-699a099370b1"
      },
      "source": [
        "### DONE ###\n",
        "df_ATL = df_salaries.loc[df_salaries[\"teamID\"]== 'ATL']\n",
        "salary_ATL = df_ATL['salary']\n",
        "salary_ATL.describe()"
      ],
      "execution_count": 7,
      "outputs": [
        {
          "output_type": "execute_result",
          "data": {
            "text/plain": [
              "count    3.250000e+02\n",
              "mean     5.324481e+06\n",
              "std      4.083713e+06\n",
              "min      1.025000e+06\n",
              "25%      2.000000e+06\n",
              "50%      3.850000e+06\n",
              "75%      7.666667e+06\n",
              "max      1.606180e+07\n",
              "Name: salary, dtype: float64"
            ]
          },
          "metadata": {
            "tags": []
          },
          "execution_count": 7
        }
      ]
    },
    {
      "cell_type": "markdown",
      "metadata": {
        "id": "H_D_LWRVJwhx"
      },
      "source": [
        "#### The iterrows() Method"
      ]
    },
    {
      "cell_type": "markdown",
      "metadata": {
        "id": "7hs107BLJwhx"
      },
      "source": [
        "Create a Python dictionary object whose keys are the headers of the \n",
        "dataframe created in the read_csv() exercise and values are Python list objects that contain data corresponding to the headers. (Here, use the iterrows method to iterate each row of the dataframe and copy it to a dictionary. However, there is a easier way. Learn how the to_dict() method works by yourself later)"
      ]
    },
    {
      "cell_type": "code",
      "metadata": {
        "ExecuteTime": {
          "end_time": "2019-08-28T03:51:38.476575Z",
          "start_time": "2019-08-28T03:51:36.568044Z"
        },
        "id": "0TU4znZmJwhx",
        "colab": {
          "base_uri": "https://localhost:8080/"
        },
        "outputId": "cec6a809-f812-428a-f010-e4ba06508c6d"
      },
      "source": [
        "### DONE ###\n",
        "columns = df_salaries.columns\n",
        "if 'playerID' not in columns:\n",
        "  df_salaries = df_salaries.reset_index(drop = False)"
      ],
      "execution_count": 24,
      "outputs": [
        {
          "output_type": "execute_result",
          "data": {
            "text/plain": [
              "['playerID', 'yearID', 'teamID', 'lgID', 'salary']"
            ]
          },
          "metadata": {
            "tags": []
          },
          "execution_count": 24
        }
      ]
    },
    {
      "cell_type": "code",
      "metadata": {
        "id": "IL90a95CnilJ"
      },
      "source": [
        "## use iterrows to append to dict and column keys\n",
        "### DONE ###\n",
        "salary_dict = {}\n",
        "dict_keys = list(columns)\n",
        "\n",
        "for index, row in df_salaries.iterrows():\n",
        "  for col in dict_keys:\n",
        "    \n",
        "    if col not in salary_dict.keys():\n",
        "      salary_dict[col] = [row[col]]\n",
        "    else:\n",
        "      salary_dict[col].append(row[col])\n",
        "\n",
        "#salary_dict"
      ],
      "execution_count": null,
      "outputs": []
    },
    {
      "cell_type": "markdown",
      "metadata": {
        "id": "mYIMPANKJwhx"
      },
      "source": [
        "#### Create Dataframe Using the Constructor"
      ]
    },
    {
      "cell_type": "markdown",
      "metadata": {
        "ExecuteTime": {
          "end_time": "2019-08-24T15:53:45.113577Z",
          "start_time": "2019-08-24T15:53:45.110554Z"
        },
        "id": "_PXj19INJwhx"
      },
      "source": [
        "Read the documentation: https://pandas.pydata.org/pandas-docs/stable/reference/api/pandas.DataFrame.html#pandas.DataFrame and create a dataframe using pd.DataFrame from the dictionary created in the iterrows() exercise. Change the header to \"a\", \"b\", \"c\", ... at creation time."
      ]
    },
    {
      "cell_type": "code",
      "metadata": {
        "ExecuteTime": {
          "end_time": "2019-08-28T03:53:06.129037Z",
          "start_time": "2019-08-28T03:53:06.074438Z"
        },
        "id": "VEhSMF4UJwhy",
        "colab": {
          "base_uri": "https://localhost:8080/",
          "height": 406
        },
        "outputId": "d4abcca7-5ab9-4ba2-b31e-b007fb0ffcfd"
      },
      "source": [
        "pd.DataFrame(salary_dict)"
      ],
      "execution_count": 80,
      "outputs": [
        {
          "output_type": "execute_result",
          "data": {
            "text/html": [
              "<div>\n",
              "<style scoped>\n",
              "    .dataframe tbody tr th:only-of-type {\n",
              "        vertical-align: middle;\n",
              "    }\n",
              "\n",
              "    .dataframe tbody tr th {\n",
              "        vertical-align: top;\n",
              "    }\n",
              "\n",
              "    .dataframe thead th {\n",
              "        text-align: right;\n",
              "    }\n",
              "</style>\n",
              "<table border=\"1\" class=\"dataframe\">\n",
              "  <thead>\n",
              "    <tr style=\"text-align: right;\">\n",
              "      <th></th>\n",
              "      <th>playerID</th>\n",
              "      <th>yearID</th>\n",
              "      <th>teamID</th>\n",
              "      <th>lgID</th>\n",
              "      <th>salary</th>\n",
              "    </tr>\n",
              "  </thead>\n",
              "  <tbody>\n",
              "    <tr>\n",
              "      <th>0</th>\n",
              "      <td>barkele01</td>\n",
              "      <td>1985</td>\n",
              "      <td>ATL</td>\n",
              "      <td>NL</td>\n",
              "      <td>870000</td>\n",
              "    </tr>\n",
              "    <tr>\n",
              "      <th>1</th>\n",
              "      <td>benedbr01</td>\n",
              "      <td>1985</td>\n",
              "      <td>ATL</td>\n",
              "      <td>NL</td>\n",
              "      <td>545000</td>\n",
              "    </tr>\n",
              "    <tr>\n",
              "      <th>2</th>\n",
              "      <td>campri01</td>\n",
              "      <td>1985</td>\n",
              "      <td>ATL</td>\n",
              "      <td>NL</td>\n",
              "      <td>633333</td>\n",
              "    </tr>\n",
              "    <tr>\n",
              "      <th>3</th>\n",
              "      <td>ceronri01</td>\n",
              "      <td>1985</td>\n",
              "      <td>ATL</td>\n",
              "      <td>NL</td>\n",
              "      <td>625000</td>\n",
              "    </tr>\n",
              "    <tr>\n",
              "      <th>4</th>\n",
              "      <td>chambch01</td>\n",
              "      <td>1985</td>\n",
              "      <td>ATL</td>\n",
              "      <td>NL</td>\n",
              "      <td>800000</td>\n",
              "    </tr>\n",
              "    <tr>\n",
              "      <th>...</th>\n",
              "      <td>...</td>\n",
              "      <td>...</td>\n",
              "      <td>...</td>\n",
              "      <td>...</td>\n",
              "      <td>...</td>\n",
              "    </tr>\n",
              "    <tr>\n",
              "      <th>55087</th>\n",
              "      <td>treinbl01</td>\n",
              "      <td>2015</td>\n",
              "      <td>WAS</td>\n",
              "      <td>NL</td>\n",
              "      <td>512800</td>\n",
              "    </tr>\n",
              "    <tr>\n",
              "      <th>55088</th>\n",
              "      <td>ugglada01</td>\n",
              "      <td>2015</td>\n",
              "      <td>WAS</td>\n",
              "      <td>NL</td>\n",
              "      <td>507500</td>\n",
              "    </tr>\n",
              "    <tr>\n",
              "      <th>55089</th>\n",
              "      <td>werthja01</td>\n",
              "      <td>2015</td>\n",
              "      <td>WAS</td>\n",
              "      <td>NL</td>\n",
              "      <td>21000000</td>\n",
              "    </tr>\n",
              "    <tr>\n",
              "      <th>55090</th>\n",
              "      <td>zimmejo02</td>\n",
              "      <td>2015</td>\n",
              "      <td>WAS</td>\n",
              "      <td>NL</td>\n",
              "      <td>16500000</td>\n",
              "    </tr>\n",
              "    <tr>\n",
              "      <th>55091</th>\n",
              "      <td>zimmery01</td>\n",
              "      <td>2015</td>\n",
              "      <td>WAS</td>\n",
              "      <td>NL</td>\n",
              "      <td>14000000</td>\n",
              "    </tr>\n",
              "  </tbody>\n",
              "</table>\n",
              "<p>55092 rows × 5 columns</p>\n",
              "</div>"
            ],
            "text/plain": [
              "        playerID  yearID teamID lgID    salary\n",
              "0      barkele01    1985    ATL   NL    870000\n",
              "1      benedbr01    1985    ATL   NL    545000\n",
              "2       campri01    1985    ATL   NL    633333\n",
              "3      ceronri01    1985    ATL   NL    625000\n",
              "4      chambch01    1985    ATL   NL    800000\n",
              "...          ...     ...    ...  ...       ...\n",
              "55087  treinbl01    2015    WAS   NL    512800\n",
              "55088  ugglada01    2015    WAS   NL    507500\n",
              "55089  werthja01    2015    WAS   NL  21000000\n",
              "55090  zimmejo02    2015    WAS   NL  16500000\n",
              "55091  zimmery01    2015    WAS   NL  14000000\n",
              "\n",
              "[55092 rows x 5 columns]"
            ]
          },
          "metadata": {
            "tags": []
          },
          "execution_count": 80
        }
      ]
    },
    {
      "cell_type": "markdown",
      "metadata": {
        "id": "X4GzVJodJwhy"
      },
      "source": [
        "### Numpy"
      ]
    },
    {
      "cell_type": "markdown",
      "metadata": {
        "id": "AFBOxNYoJwhy"
      },
      "source": [
        "Quick start: https://www.numpy.org/devdocs/user/quickstart.html\n",
        "\n",
        "Numpy axes explaination: https://www.sharpsightlabs.com/blog/numpy-axes-explained/"
      ]
    },
    {
      "cell_type": "markdown",
      "metadata": {
        "id": "VnWQEMqrJwhy"
      },
      "source": [
        "#### The np.array Method"
      ]
    },
    {
      "cell_type": "markdown",
      "metadata": {
        "id": "Sx4T5IhJJwhy"
      },
      "source": [
        "Example 1:\n",
        "\n",
        "```python\n",
        "ls = [1, 2, 3]\n",
        "arr = np.array(ls)\n",
        "```\n",
        "\n",
        "Example 2:\n",
        "```python\n",
        ">>> np.array([[1, 2], [3, 4]])\n",
        "array([[1, 2],\n",
        "       [3, 4]])\n",
        "```"
      ]
    },
    {
      "cell_type": "markdown",
      "metadata": {
        "id": "HOzINXowJwhy"
      },
      "source": [
        "Now, create a 2-dimensional Python list object, then convert it to a Numpy array object."
      ]
    },
    {
      "cell_type": "code",
      "metadata": {
        "id": "3c5ROXOIJwhy",
        "colab": {
          "base_uri": "https://localhost:8080/",
          "height": 34
        },
        "outputId": "17eb903c-23b1-491b-8d1c-ac1ef7b2fbc3"
      },
      "source": [
        "### DONE ###\n",
        "ls = [2,4,6,8]\n",
        "arr = np.array(ls)\n",
        "display(arr)"
      ],
      "execution_count": 38,
      "outputs": [
        {
          "output_type": "display_data",
          "data": {
            "text/plain": [
              "array([2, 4, 6, 8])"
            ]
          },
          "metadata": {
            "tags": []
          }
        }
      ]
    },
    {
      "cell_type": "markdown",
      "metadata": {
        "id": "F1ggQedvJwhy"
      },
      "source": [
        "#### ndarray Objects' Attributes"
      ]
    },
    {
      "cell_type": "markdown",
      "metadata": {
        "id": "QwcUqtbvJwhz"
      },
      "source": [
        "Examine the ndim, shape, size, dtype, itemsize, and data attributes of the numpy\n",
        "array object. Make sure you understand their functions"
      ]
    },
    {
      "cell_type": "code",
      "metadata": {
        "id": "e1OQwV-hJwhz",
        "colab": {
          "base_uri": "https://localhost:8080/",
          "height": 105
        },
        "outputId": "47401334-1a19-4822-bc81-ce8e838c77b3"
      },
      "source": [
        "### DONE ###\n",
        "display(arr.ndim,\n",
        "        arr.shape,\n",
        "        arr.size,\n",
        "        arr.dtype,\n",
        "        arr.itemsize\n",
        ")"
      ],
      "execution_count": 81,
      "outputs": [
        {
          "output_type": "display_data",
          "data": {
            "text/plain": [
              "1"
            ]
          },
          "metadata": {
            "tags": []
          }
        },
        {
          "output_type": "display_data",
          "data": {
            "text/plain": [
              "(4,)"
            ]
          },
          "metadata": {
            "tags": []
          }
        },
        {
          "output_type": "display_data",
          "data": {
            "text/plain": [
              "4"
            ]
          },
          "metadata": {
            "tags": []
          }
        },
        {
          "output_type": "display_data",
          "data": {
            "text/plain": [
              "dtype('int64')"
            ]
          },
          "metadata": {
            "tags": []
          }
        },
        {
          "output_type": "display_data",
          "data": {
            "text/plain": [
              "8"
            ]
          },
          "metadata": {
            "tags": []
          }
        }
      ]
    },
    {
      "cell_type": "markdown",
      "metadata": {
        "id": "JN5MS6NzJwhz"
      },
      "source": [
        "#### Dimension of ndarray Ojects"
      ]
    },
    {
      "cell_type": "markdown",
      "metadata": {
        "id": "YQARTq5AJwh0"
      },
      "source": [
        "Play with the reshape() and flatten() method.\n",
        "\n",
        "Example:\n",
        "```python\n",
        ">>> arr = np.array([[1, 2], [3, 4]])\n",
        ">>> arr.flatten()\n",
        "array([1, 2, 3, 4])\n",
        "```"
      ]
    },
    {
      "cell_type": "code",
      "metadata": {
        "id": "xVClgHA7Jwh0",
        "colab": {
          "base_uri": "https://localhost:8080/",
          "height": 70
        },
        "outputId": "d2101853-3727-4c6e-b7dc-504092223ca2"
      },
      "source": [
        "### DONE ###\n",
        "display(arr.reshape(2,2))\n",
        "display(arr.flatten())"
      ],
      "execution_count": 37,
      "outputs": [
        {
          "output_type": "display_data",
          "data": {
            "text/plain": [
              "array([[2, 4],\n",
              "       [6, 8]])"
            ]
          },
          "metadata": {
            "tags": []
          }
        },
        {
          "output_type": "display_data",
          "data": {
            "text/plain": [
              "array([2, 4, 6, 8])"
            ]
          },
          "metadata": {
            "tags": []
          }
        }
      ]
    },
    {
      "cell_type": "markdown",
      "metadata": {
        "id": "GAPk_tPbJwh0"
      },
      "source": [
        "#### The Slice Operation of ndarray Objects"
      ]
    },
    {
      "cell_type": "markdown",
      "metadata": {
        "id": "UXZJFFvGJwh0"
      },
      "source": [
        "Understand how the slice operation works for 1-D array and 2-D array.\n",
        "\n",
        "Example:\n",
        "\n",
        "```python\n",
        ">>> arr = np.array([[1, 2, 3], [3, 4, 6], [7, 8, 9]])\n",
        ">>> arr[1:]\n",
        "array([[3, 4, 6],\n",
        "       [7, 8, 9]])\n",
        ">>> arr[1:, 0:2]\n",
        "array([[3, 4],\n",
        "       [7, 8]])\n",
        "```"
      ]
    },
    {
      "cell_type": "code",
      "metadata": {
        "id": "FdJw0GojJwh0",
        "colab": {
          "base_uri": "https://localhost:8080/",
          "height": 70
        },
        "outputId": "cba25be7-e47b-4f75-de3b-8196ad2949a5"
      },
      "source": [
        "### DONE ###\n",
        "arr1 = arr\n",
        "arr2 = arr.reshape(2,2)\n",
        "\n",
        "#simple slice\n",
        "display(arr1[1:])\n",
        "display(arr2[1:])\n",
        "\n",
        "# double slice for 2D array\n",
        "display(arr2[1:, 0:1])"
      ],
      "execution_count": 43,
      "outputs": [
        {
          "output_type": "display_data",
          "data": {
            "text/plain": [
              "array([4, 6, 8])"
            ]
          },
          "metadata": {
            "tags": []
          }
        },
        {
          "output_type": "display_data",
          "data": {
            "text/plain": [
              "array([[6, 8]])"
            ]
          },
          "metadata": {
            "tags": []
          }
        },
        {
          "output_type": "display_data",
          "data": {
            "text/plain": [
              "array([[6]])"
            ]
          },
          "metadata": {
            "tags": []
          }
        }
      ]
    },
    {
      "cell_type": "markdown",
      "metadata": {
        "id": "TqJ7-aYYJwh0"
      },
      "source": [
        "#### The Calculation of ndarray Objects"
      ]
    },
    {
      "cell_type": "markdown",
      "metadata": {
        "id": "ZlBzrYByJwh1"
      },
      "source": [
        "Play with the **argmin(), argmax(), min(), max(), mean(), sum(), std(), dot(), square(), sqrt(), abs(). exp(), sign(), mod()** method.\n",
        "\n",
        "Example:\n",
        "\n",
        "```python\n",
        ">>> np.square(array)\n",
        "array([[ 1,  4,  9],\n",
        "       [ 9, 16, 36],\n",
        "       [49, 64, 81]])\n",
        "\n",
        "```"
      ]
    },
    {
      "cell_type": "code",
      "metadata": {
        "id": "6fKMsz4gJwh1",
        "colab": {
          "base_uri": "https://localhost:8080/",
          "height": 656
        },
        "outputId": "1f1332d3-ab12-477a-8e5e-0061af13f52c"
      },
      "source": [
        "### DONE ###\n",
        "print(\"1-D ARRAY: \")\n",
        "\n",
        "display(\n",
        "    np.argmin(arr1),\n",
        "    np.argmax(arr1),\n",
        "    np.min(arr1),\n",
        "    np.max(arr1),\n",
        "    np.mean(arr1),\n",
        "    np.sum(arr1),\n",
        "    np.std(arr1),\n",
        "    np.square(arr1),\n",
        "    np.sqrt(arr1),\n",
        "    np.abs(arr1),\n",
        "    np.exp(arr1),\n",
        "    np.sign(arr1)\n",
        ")\n",
        "\n",
        "print(\" \")\n",
        "print(\"2-D ARRAY: \")\n",
        "\n",
        "display(\n",
        "    np.argmin(arr2),\n",
        "    np.argmax(arr2),\n",
        "    np.min(arr2),\n",
        "    np.max(arr2),\n",
        "    np.mean(arr2),\n",
        "    np.sum(arr2),\n",
        "    np.std(arr2),\n",
        "    np.dot(arr2, 1),\n",
        "    np.square(arr2),\n",
        "    np.sqrt(arr2),\n",
        "    np.abs(arr2),\n",
        "    np.exp(arr2),\n",
        "    np.sign(arr2),\n",
        "    np.mod(arr2,1)\n",
        ")"
      ],
      "execution_count": 61,
      "outputs": [
        {
          "output_type": "stream",
          "text": [
            "1-D ARRAY: \n"
          ],
          "name": "stdout"
        },
        {
          "output_type": "display_data",
          "data": {
            "text/plain": [
              "0"
            ]
          },
          "metadata": {
            "tags": []
          }
        },
        {
          "output_type": "display_data",
          "data": {
            "text/plain": [
              "3"
            ]
          },
          "metadata": {
            "tags": []
          }
        },
        {
          "output_type": "display_data",
          "data": {
            "text/plain": [
              "2"
            ]
          },
          "metadata": {
            "tags": []
          }
        },
        {
          "output_type": "display_data",
          "data": {
            "text/plain": [
              "8"
            ]
          },
          "metadata": {
            "tags": []
          }
        },
        {
          "output_type": "display_data",
          "data": {
            "text/plain": [
              "5.0"
            ]
          },
          "metadata": {
            "tags": []
          }
        },
        {
          "output_type": "display_data",
          "data": {
            "text/plain": [
              "20"
            ]
          },
          "metadata": {
            "tags": []
          }
        },
        {
          "output_type": "display_data",
          "data": {
            "text/plain": [
              "2.23606797749979"
            ]
          },
          "metadata": {
            "tags": []
          }
        },
        {
          "output_type": "display_data",
          "data": {
            "text/plain": [
              "array([ 4, 16, 36, 64])"
            ]
          },
          "metadata": {
            "tags": []
          }
        },
        {
          "output_type": "display_data",
          "data": {
            "text/plain": [
              "array([1.41421356, 2.        , 2.44948974, 2.82842712])"
            ]
          },
          "metadata": {
            "tags": []
          }
        },
        {
          "output_type": "display_data",
          "data": {
            "text/plain": [
              "array([2, 4, 6, 8])"
            ]
          },
          "metadata": {
            "tags": []
          }
        },
        {
          "output_type": "display_data",
          "data": {
            "text/plain": [
              "array([   7.3890561 ,   54.59815003,  403.42879349, 2980.95798704])"
            ]
          },
          "metadata": {
            "tags": []
          }
        },
        {
          "output_type": "display_data",
          "data": {
            "text/plain": [
              "array([1, 1, 1, 1])"
            ]
          },
          "metadata": {
            "tags": []
          }
        },
        {
          "output_type": "stream",
          "text": [
            " \n",
            "2-D ARRAY: \n"
          ],
          "name": "stdout"
        },
        {
          "output_type": "display_data",
          "data": {
            "text/plain": [
              "0"
            ]
          },
          "metadata": {
            "tags": []
          }
        },
        {
          "output_type": "display_data",
          "data": {
            "text/plain": [
              "3"
            ]
          },
          "metadata": {
            "tags": []
          }
        },
        {
          "output_type": "display_data",
          "data": {
            "text/plain": [
              "2"
            ]
          },
          "metadata": {
            "tags": []
          }
        },
        {
          "output_type": "display_data",
          "data": {
            "text/plain": [
              "8"
            ]
          },
          "metadata": {
            "tags": []
          }
        },
        {
          "output_type": "display_data",
          "data": {
            "text/plain": [
              "5.0"
            ]
          },
          "metadata": {
            "tags": []
          }
        },
        {
          "output_type": "display_data",
          "data": {
            "text/plain": [
              "20"
            ]
          },
          "metadata": {
            "tags": []
          }
        },
        {
          "output_type": "display_data",
          "data": {
            "text/plain": [
              "2.23606797749979"
            ]
          },
          "metadata": {
            "tags": []
          }
        },
        {
          "output_type": "display_data",
          "data": {
            "text/plain": [
              "array([[2, 4],\n",
              "       [6, 8]])"
            ]
          },
          "metadata": {
            "tags": []
          }
        },
        {
          "output_type": "display_data",
          "data": {
            "text/plain": [
              "array([[ 4, 16],\n",
              "       [36, 64]])"
            ]
          },
          "metadata": {
            "tags": []
          }
        },
        {
          "output_type": "display_data",
          "data": {
            "text/plain": [
              "array([[1.41421356, 2.        ],\n",
              "       [2.44948974, 2.82842712]])"
            ]
          },
          "metadata": {
            "tags": []
          }
        },
        {
          "output_type": "display_data",
          "data": {
            "text/plain": [
              "array([[2, 4],\n",
              "       [6, 8]])"
            ]
          },
          "metadata": {
            "tags": []
          }
        },
        {
          "output_type": "display_data",
          "data": {
            "text/plain": [
              "array([[   7.3890561 ,   54.59815003],\n",
              "       [ 403.42879349, 2980.95798704]])"
            ]
          },
          "metadata": {
            "tags": []
          }
        },
        {
          "output_type": "display_data",
          "data": {
            "text/plain": [
              "array([[1, 1],\n",
              "       [1, 1]])"
            ]
          },
          "metadata": {
            "tags": []
          }
        },
        {
          "output_type": "display_data",
          "data": {
            "text/plain": [
              "array([[0, 0],\n",
              "       [0, 0]])"
            ]
          },
          "metadata": {
            "tags": []
          }
        }
      ]
    },
    {
      "cell_type": "markdown",
      "metadata": {
        "id": "VVyNl5WRJwh1"
      },
      "source": [
        "#### Other Important Methods Inside Module Numpy"
      ]
    },
    {
      "cell_type": "markdown",
      "metadata": {
        "id": "9OXUoP4EJwh1"
      },
      "source": [
        "Play with the arange(), ones(), zeros(), eye(), linspace(), concatenate() method.\n",
        "\n",
        "Example:\n",
        "\n",
        "```python\n",
        ">>> np.eye(3)\n",
        "array([[1., 0., 0.],\n",
        "       [0., 1., 0.],\n",
        "       [0., 0., 1.]])\n",
        "```"
      ]
    },
    {
      "cell_type": "code",
      "metadata": {
        "id": "AgVdMVHgJwh1",
        "colab": {
          "base_uri": "https://localhost:8080/",
          "height": 283
        },
        "outputId": "f3fe7ad0-bbaa-4139-8b01-e6b68b825bc7"
      },
      "source": [
        "display(\n",
        "np.eye(2),\n",
        "np.ones(2),\n",
        "np.zeros(2),\n",
        "np.arange(2),\n",
        "np.linspace(2,1),\n",
        "#np.concatenate([2,2])\n",
        ")"
      ],
      "execution_count": 68,
      "outputs": [
        {
          "output_type": "display_data",
          "data": {
            "text/plain": [
              "array([[1., 0.],\n",
              "       [0., 1.]])"
            ]
          },
          "metadata": {
            "tags": []
          }
        },
        {
          "output_type": "display_data",
          "data": {
            "text/plain": [
              "array([1., 1.])"
            ]
          },
          "metadata": {
            "tags": []
          }
        },
        {
          "output_type": "display_data",
          "data": {
            "text/plain": [
              "array([0., 0.])"
            ]
          },
          "metadata": {
            "tags": []
          }
        },
        {
          "output_type": "display_data",
          "data": {
            "text/plain": [
              "array([0, 1])"
            ]
          },
          "metadata": {
            "tags": []
          }
        },
        {
          "output_type": "display_data",
          "data": {
            "text/plain": [
              "array([2.        , 1.97959184, 1.95918367, 1.93877551, 1.91836735,\n",
              "       1.89795918, 1.87755102, 1.85714286, 1.83673469, 1.81632653,\n",
              "       1.79591837, 1.7755102 , 1.75510204, 1.73469388, 1.71428571,\n",
              "       1.69387755, 1.67346939, 1.65306122, 1.63265306, 1.6122449 ,\n",
              "       1.59183673, 1.57142857, 1.55102041, 1.53061224, 1.51020408,\n",
              "       1.48979592, 1.46938776, 1.44897959, 1.42857143, 1.40816327,\n",
              "       1.3877551 , 1.36734694, 1.34693878, 1.32653061, 1.30612245,\n",
              "       1.28571429, 1.26530612, 1.24489796, 1.2244898 , 1.20408163,\n",
              "       1.18367347, 1.16326531, 1.14285714, 1.12244898, 1.10204082,\n",
              "       1.08163265, 1.06122449, 1.04081633, 1.02040816, 1.        ])"
            ]
          },
          "metadata": {
            "tags": []
          }
        }
      ]
    },
    {
      "cell_type": "markdown",
      "metadata": {
        "id": "zJmudsxBJwh1"
      },
      "source": [
        "### Scikit-Learn"
      ]
    },
    {
      "cell_type": "markdown",
      "metadata": {
        "id": "wteHdNgZJwh1"
      },
      "source": [
        "The followings are packages (or methods) in Python (Scikit-Learn and Scipy) that will be frequently used in your programming assignment. So, please read carefully.\n",
        "\n",
        "- Data Preprocessing (https://scikit-learn.org/stable/modules/classes.html#module-sklearn.preprocessing)\n",
        "    - Standardization: StandardScaler\n",
        "    - Normalization: MinMaxScaler\n",
        "    - Quantifing Categorical Features: LabelEncoder. OneHotEncoder\n",
        "    - Construct Train and Test Set: model_selection.train_test_split\n",
        "- KNN: KNeighborsClassifier\n",
        "- Linear Regression: LinearRegression\n",
        "- Logistic Regression: LogisticRegression, LogisticRegressionCV\n",
        "- Feature Selection / Model Selection\n",
        "    - L1 Penalized Regression (Lasso Regression) with Cross-Validation: LassoCV\n",
        "    - L2 Penalized Regression (Ridge Regression) with Cross-Validation: RidgeCV\n",
        "    - Cross-Validation: StratifiedKFold, RepeatedKFold, LeaveOneOut, KFold, model_selection.cross_validate, model_selection.cross_val_predict, model_selection.cross_val_score\n",
        "    - Model Metrics (https://scikit-learn.org/stable/modules/classes.html#sklearn-metrics-metrics): accuracy_score, auc, f1_score, hamming_loss, precision_score, recall_score, roc_auc_score\n",
        "- Decision Tree: DecisionTreeClassifier, DecisionTreeRegressor\n",
        "- Bootstrap, Ensemble Methods\n",
        "    - Bootstrap: bootstrapped (https://pypi.org/project/bootstrapped/)\n",
        "    - Bagging: RandomForestClassifier, RandomForestRegressor\n",
        "    - Boosting: AdaBoostClassifier, AdaBoostRegressor\n",
        "- Support Vector Machines (https://scikit-learn.org/stable/modules/svm.html#svm): LinearSVC, LinearSVR\n",
        "- Multiclass and Multilabel Classification (https://scikit-learn.org/stable/modules/classes.html#module-sklearn.multiclass)\n",
        "    - One-vs-one Multiclass Strategy: OneVsOneClassifier\n",
        "    - One-vs-the-rest (OvR) multiclass/multilabel strategy / OneVsRestClassifier\n",
        "- Unsupervised Learning\n",
        "    - K-means Clustering: KMeans\n",
        "    - Hierarchical Clustering: scipy.cluster.hierarchy (not scikit-learn)\n",
        "- Semisupervised Learning (https://scikit-learn.org/stable/modules/label_propagation.html)"
      ]
    },
    {
      "cell_type": "markdown",
      "metadata": {
        "id": "6v5W9HK7Jwh2"
      },
      "source": [
        "### Matplotlib"
      ]
    },
    {
      "cell_type": "markdown",
      "metadata": {
        "id": "j7ibY2GTJwh2"
      },
      "source": [
        "**Quick start:** https://matplotlib.org/3.1.1/tutorials/introductory/pyplot.html\n",
        "\n",
        "**Exercises:**"
      ]
    },
    {
      "cell_type": "markdown",
      "metadata": {
        "id": "EoZ1eIsDJwh2"
      },
      "source": [
        "(a) Create two one dimensional arrays x and y and plot y vs x, add title, xlabel, ylabel, grid.\n",
        "\n",
        "```python\n",
        "import numpy as np\n",
        "import matplotlib.pyplot as plt\n",
        "\n",
        "\n",
        "x = np.linspace(-5, 5, num=20)\n",
        "y = np.array([j ** 2 for j in x])\n",
        "```\n",
        "\n",
        "copy the code above to the following cell and add code for plotting the parabola."
      ]
    },
    {
      "cell_type": "code",
      "metadata": {
        "ExecuteTime": {
          "end_time": "2020-01-08T10:38:20.467433Z",
          "start_time": "2020-01-08T10:38:20.462120Z"
        },
        "id": "8qDWN-SPJwh2",
        "colab": {
          "base_uri": "https://localhost:8080/",
          "height": 278
        },
        "outputId": "eefe4058-5a08-4016-ed0b-35ea2aba5268"
      },
      "source": [
        "### DONE ####\n",
        "\n",
        "import numpy as np\n",
        "import matplotlib.pyplot as plt\n",
        " \n",
        " \n",
        "x = np.linspace(-5, 5, num=20)\n",
        "y = np.array([j ** 2 for j in x])\n",
        "\n",
        "plt.plot(x, y, linewidth=2.0)\n",
        "plt.xlabel('X')\n",
        "plt.ylabel('Y')\n",
        "plt.grid(True)\n",
        "plt.show()"
      ],
      "execution_count": 83,
      "outputs": [
        {
          "output_type": "display_data",
          "data": {
            "image/png": "[encoded data removed]",
            "text/plain": [
              "<Figure size 432x288 with 1 Axes>"
            ]
          },
          "metadata": {
            "tags": [],
            "needs_background": "light"
          }
        }
      ]
    },
    {
      "cell_type": "markdown",
      "metadata": {
        "ExecuteTime": {
          "end_time": "2020-01-08T10:43:28.333944Z",
          "start_time": "2020-01-08T10:43:28.260989Z"
        },
        "id": "8VKD4z9SJwh2"
      },
      "source": [
        "What happens if the independent variable is not sorted before plotting? Try plotting directly using the following defined array.\n",
        "\n",
        "```python\n",
        "import numpy as np\n",
        "import matplotlib.pyplot as plt\n",
        "\n",
        "\n",
        "x = np.linspace(-5, 5, num=20)\n",
        "np.random.shuffle(x)\n",
        "y = np.array([j ** 2 for j in x])\n",
        "```"
      ]
    },
    {
      "cell_type": "code",
      "metadata": {
        "id": "9TTGzTgNJwh2",
        "colab": {
          "base_uri": "https://localhost:8080/",
          "height": 278
        },
        "outputId": "1a25fa72-842d-4cbd-8489-632be8569a1c"
      },
      "source": [
        "### DONE ####\n",
        "\n",
        "import numpy as np\n",
        "import matplotlib.pyplot as plt\n",
        " \n",
        " \n",
        "x = np.linspace(-5, 5, num=20)\n",
        "np.random.shuffle(x)\n",
        "y = np.array([j ** 2 for j in x])\n",
        "\n",
        "plt.plot(x, y, linewidth=2.0)\n",
        "plt.xlabel('X')\n",
        "plt.ylabel('Y')\n",
        "plt.grid(True)\n",
        "plt.show()"
      ],
      "execution_count": 84,
      "outputs": [
        {
          "output_type": "display_data",
          "data": {
            "image/png": "[encoded data removed]",
            "text/plain": [
              "<Figure size 432x288 with 1 Axes>"
            ]
          },
          "metadata": {
            "tags": [],
            "needs_background": "light"
          }
        }
      ]
    },
    {
      "cell_type": "markdown",
      "metadata": {
        "id": "yuoAfQ9sJwh2"
      },
      "source": [
        "(b) Create multiple arrays and plot them with different styles, add legends, add text/mathematical equations on the plot.\n",
        "\n",
        "```python\n",
        "import numpy as np\n",
        "import matplotlib.pyplot as plt\n",
        "\n",
        "\n",
        "x = np.linspace(-5, 5, num=20)\n",
        "y1 = np.array([j for j in x])\n",
        "y2 = np.array([j ** 2 for j in x])\n",
        "y3 = np.array([j ** 3 for j in x])\n",
        "```\n",
        "\n",
        "copy the code above to the following cell and add code for plotting curve $\\left(x, y1\\right)$, $\\left(x, y2\\right)$ and $\\left(x, y3\\right)$."
      ]
    },
    {
      "cell_type": "code",
      "metadata": {
        "id": "doGTkCQUJwh2",
        "colab": {
          "base_uri": "https://localhost:8080/",
          "height": 278
        },
        "outputId": "5e93d85f-e060-44de-f8e0-29ad5428daa8"
      },
      "source": [
        "### DONE ####\n",
        "\n",
        "import numpy as np\n",
        "import matplotlib.pyplot as plt\n",
        " \n",
        " \n",
        "x = np.linspace(-5, 5, num=20)\n",
        "y1 = np.array([j for j in x])\n",
        "y2 = np.array([j ** 2 for j in x])\n",
        "y3 = np.array([j ** 3 for j in x])\n",
        "\n",
        "plt.plot(x, y1,'r', x, y2, 'bs', x, y3,  'g^')\n",
        "plt.xlabel('X')\n",
        "plt.ylabel('Y')\n",
        "plt.text(1, -30, r'$y = x$', fontsize=20, color = 'r')\n",
        "plt.text(-5, 50, r'$y= x ^ 2$', fontsize=20, color = 'b')\n",
        "plt.text(2, 75, r'$y= x ^ 3$', fontsize=20, color = 'g')\n",
        "plt.grid(True)\n",
        "plt.show()"
      ],
      "execution_count": 112,
      "outputs": [
        {
          "output_type": "display_data",
          "data": {
            "image/png": "[encoded data removed]",
            "text/plain": [
              "<Figure size 432x288 with 1 Axes>"
            ]
          },
          "metadata": {
            "tags": [],
            "needs_background": "light"
          }
        }
      ]
    },
    {
      "cell_type": "markdown",
      "metadata": {
        "id": "UZYdAJylJwh3"
      },
      "source": [
        "(c) Create multiple arrays and plot them into one figure **(No multiple figure and no subplot is allowed in this question)**.\n",
        "\n",
        "```python\n",
        "import numpy as np\n",
        "import matplotlib.pyplot as plt\n",
        "\n",
        "\n",
        "x = np.linspace(-5, 5, num=20)\n",
        "y1 = np.array([j for j in x])\n",
        "y2 = np.array([j ** 2 for j in x])\n",
        "y3 = np.array([j ** 3 for j in x])\n",
        "```\n",
        "\n",
        "copy the code above to the following cell and add code for plotting curve $\\left(x, y1\\right)$, $\\left(x, y2\\right)$ and $\\left(x, y3\\right)$."
      ]
    },
    {
      "cell_type": "code",
      "metadata": {
        "id": "Q0GOD8q-Jwh3",
        "colab": {
          "base_uri": "https://localhost:8080/",
          "height": 278
        },
        "outputId": "ae8e8ba6-e82d-4739-c7f0-04118533dddc"
      },
      "source": [
        "### DONE ####\n",
        "\n",
        "import numpy as np\n",
        "import matplotlib.pyplot as plt\n",
        " \n",
        " \n",
        "x = np.linspace(-5, 5, num=20)\n",
        "y1 = np.array([j for j in x])\n",
        "y2 = np.array([j ** 2 for j in x])\n",
        "y3 = np.array([j ** 3 for j in x])\n",
        "\n",
        "plt.plot(x, y1,'r', x, y2, 'bs', x, y3,  'g^')\n",
        "plt.xlabel('X')\n",
        "plt.ylabel('Y')\n",
        "#plt.text(1, -30, r'$y = x$', fontsize=20, color = 'r')\n",
        "#plt.text(-5, 50, r'$y= x ^ 2$', fontsize=20, color = 'b')\n",
        "#plt.text(2, 75, r'$y= x ^ 3$', fontsize=20, color = 'g')\n",
        "plt.grid(True)\n",
        "plt.show()"
      ],
      "execution_count": 114,
      "outputs": [
        {
          "output_type": "display_data",
          "data": {
            "image/png": "[encoded data removed]",
            "text/plain": [
              "<Figure size 432x288 with 1 Axes>"
            ]
          },
          "metadata": {
            "tags": [],
            "needs_background": "light"
          }
        }
      ]
    },
    {
      "cell_type": "markdown",
      "metadata": {
        "id": "dFu7TCuqJwh3"
      },
      "source": [
        "(d) Create multiple subplots, play around with the figure size, figure title, and its font style and font size **(One curve is plotted in one subplot in this question)**.\n",
        "\n",
        "```python\n",
        "import numpy as np\n",
        "import matplotlib.pyplot as plt\n",
        "\n",
        "\n",
        "x = np.linspace(-5, 5, num=20)\n",
        "y1 = np.array([j for j in x])\n",
        "y2 = np.array([j ** 2 for j in x])\n",
        "y3 = np.array([j ** 3 for j in x])\n",
        "```\n",
        "\n",
        "copy the code above to the following cell and add code for plotting curve $\\left(x, y1\\right)$, $\\left(x, y2\\right)$ and $\\left(x, y3\\right)$."
      ]
    },
    {
      "cell_type": "code",
      "metadata": {
        "id": "7Uq6iEkQJwh3",
        "colab": {
          "base_uri": "https://localhost:8080/",
          "height": 424
        },
        "outputId": "c0e438e0-7609-4692-8642-87b8f56c2db9"
      },
      "source": [
        "### DONE ####\n",
        "import numpy as np\n",
        "import matplotlib.pyplot as plt\n",
        " \n",
        " \n",
        "x = np.linspace(-5, 5, num=20)\n",
        "y1 = np.array([j for j in x])\n",
        "y2 = np.array([j ** 2 for j in x])\n",
        "y3 = np.array([j ** 3 for j in x])\n",
        "\n",
        "# plot with various axes scales\n",
        "plt.figure()\n",
        "\n",
        "# linear\n",
        "plt.subplot(221)\n",
        "plt.plot(x, y1,'r')\n",
        "plt.title('Y = X', color = 'r', fontsize = 35)\n",
        "plt.grid(True)\n",
        "\n",
        "\n",
        "# log\n",
        "plt.subplot(222)\n",
        "plt.plot(x, y2,'bs')\n",
        "plt.title('Y = X^2', fontsize = 20)\n",
        "plt.grid(True)\n",
        "\n",
        "\n",
        "# symmetric log\n",
        "plt.subplot(223)\n",
        "plt.plot(x, y3, 'g^')\n",
        "plt.title('Y = X^3', fontsize = 10, color = 'g')\n",
        "plt.grid(True)\n",
        "\n",
        "\n",
        "plt.subplots_adjust(top=1.2, bottom=0.01, left=0.10, right=0.95, hspace=0.35,\n",
        "                    wspace=0.75)\n",
        "\n",
        "plt.show()\n"
      ],
      "execution_count": 132,
      "outputs": [
        {
          "output_type": "display_data",
          "data": {
            "image/png": "[encoded data removed]",
            "text/plain": [
              "<Figure size 432x288 with 3 Axes>"
            ]
          },
          "metadata": {
            "tags": [],
            "needs_background": "light"
          }
        }
      ]
    },
    {
      "cell_type": "markdown",
      "metadata": {
        "id": "xOxo6K3NJwh3"
      },
      "source": [
        "(e) Change the limits on x and y axes, **use logarithmic axes to plot**.\n",
        "\n",
        "```python\n",
        "import numpy as np\n",
        "import matplotlib.pyplot as plt\n",
        "\n",
        "\n",
        "x = np.linspace(-5, 5, num=20)\n",
        "y = np.array([j ** 2 for j in x])\n",
        "```\n",
        "\n",
        "copy the code above to the following cell and add code for plotting the parabola."
      ]
    },
    {
      "cell_type": "code",
      "metadata": {
        "id": "XRtDSIJgJwh4",
        "colab": {
          "base_uri": "https://localhost:8080/",
          "height": 410
        },
        "outputId": "74aaa458-92e9-4dd2-c9d6-7b2af7fa39f5"
      },
      "source": [
        "### DONE ####\n",
        "import numpy as np\n",
        "import matplotlib.pyplot as plt\n",
        " \n",
        " \n",
        "x = np.linspace(-5, 5, num=20)\n",
        "y = np.array([j ** 2 for j in x])\n",
        "\n",
        "plt.plot(x, y, linewidth=2.0)\n",
        "plt.xlabel('X')\n",
        "plt.ylabel('Y')\n",
        "plt.grid(True)\n",
        "plt.yscale('log')\n",
        "plt.xscale('log')\n",
        "plt.ylim(0, 50)\n",
        "plt.xlim(0, 10)\n",
        "\n",
        "plt.show()"
      ],
      "execution_count": 145,
      "outputs": [
        {
          "output_type": "stream",
          "text": [
            "/usr/local/lib/python3.7/dist-packages/ipykernel_launcher.py:15: UserWarning: Attempted to set non-positive bottom ylim on a log-scaled axis.\n",
            "Invalid limit will be ignored.\n",
            "  from ipykernel import kernelapp as app\n",
            "/usr/local/lib/python3.7/dist-packages/ipykernel_launcher.py:16: UserWarning: Attempted to set non-positive left xlim on a log-scaled axis.\n",
            "Invalid limit will be ignored.\n",
            "  app.launch_new_instance()\n"
          ],
          "name": "stderr"
        },
        {
          "output_type": "display_data",
          "data": {
            "image/png": "[encoded data removed]",
            "text/plain": [
              "<Figure size 432x288 with 1 Axes>"
            ]
          },
          "metadata": {
            "tags": [],
            "needs_background": "light"
          }
        }
      ]
    },
    {
      "cell_type": "markdown",
      "metadata": {
        "id": "yq4TpGa3Jwh4"
      },
      "source": [
        "### Pandas's DataFrame.plot and Seaborn"
      ]
    },
    {
      "cell_type": "markdown",
      "metadata": {
        "id": "ARLAEvMBJwh4"
      },
      "source": [
        "#### Pandas's DataFrame.plot\n",
        "\n",
        "Use the Salaries.csv again (You can use the dataframe object loaded from section 3.1)."
      ]
    },
    {
      "cell_type": "markdown",
      "metadata": {
        "id": "jc_eU9HzJwh4"
      },
      "source": [
        "(a) For team 'ATL', plot a scatter plot between feature yearID and salary."
      ]
    },
    {
      "cell_type": "code",
      "metadata": {
        "id": "CIB6AWLwJwh4",
        "colab": {
          "base_uri": "https://localhost:8080/",
          "height": 307
        },
        "outputId": "75591e7e-d87f-4903-fa23-14a472a15219"
      },
      "source": [
        "df_plot = df_salaries[df_salaries['teamID'] == 'ATL']\n",
        "\n",
        "df_plot.plot('yearID', 'salary', kind = 'scatter')"
      ],
      "execution_count": 148,
      "outputs": [
        {
          "output_type": "execute_result",
          "data": {
            "text/plain": [
              "<matplotlib.axes._subplots.AxesSubplot at 0x7f1f9659da90>"
            ]
          },
          "metadata": {
            "tags": []
          },
          "execution_count": 148
        },
        {
          "output_type": "display_data",
          "data": {
            "image/png": "[encoded data removed]",
            "text/plain": [
              "<Figure size 432x288 with 1 Axes>"
            ]
          },
          "metadata": {
            "tags": [],
            "needs_background": "light"
          }
        }
      ]
    },
    {
      "cell_type": "markdown",
      "metadata": {
        "id": "aauf5iM-Jwh4"
      },
      "source": [
        "(b) For year 1985, plot a bar chart to show the average salary for each team."
      ]
    },
    {
      "cell_type": "code",
      "metadata": {
        "id": "VRYUidANJwh5",
        "colab": {
          "base_uri": "https://localhost:8080/",
          "height": 311
        },
        "outputId": "b6b345f1-e70a-4489-9d3c-c6d31a002870"
      },
      "source": [
        "df_plot = df_salaries[df_salaries['yearID'] == 1985]\n",
        "df_plot = df_plot.groupby(by = 'teamID', ).mean()\n",
        "df_plot = df_plot.reset_index()\n",
        "df_plot.plot('teamID', 'salary', kind = 'bar' )\n"
      ],
      "execution_count": 163,
      "outputs": [
        {
          "output_type": "execute_result",
          "data": {
            "text/plain": [
              "<matplotlib.axes._subplots.AxesSubplot at 0x7f1f96507210>"
            ]
          },
          "metadata": {
            "tags": []
          },
          "execution_count": 163
        },
        {
          "output_type": "display_data",
          "data": {
            "image/png": "[encoded data removed]",
            "text/plain": [
              "<Figure size 432x288 with 1 Axes>"
            ]
          },
          "metadata": {
            "tags": [],
            "needs_background": "light"
          }
        }
      ]
    },
    {
      "cell_type": "markdown",
      "metadata": {
        "id": "TCnpbxtgJwh5"
      },
      "source": [
        "(c) For team 'ATL', plot a line chart to show how the annual average salary change by years."
      ]
    },
    {
      "cell_type": "code",
      "metadata": {
        "id": "J2xNzhshJwh5",
        "colab": {
          "base_uri": "https://localhost:8080/",
          "height": 307
        },
        "outputId": "3f7c6725-7e45-4e93-d2e3-5a40f2355a8d"
      },
      "source": [
        "df_plot = df_salaries[df_salaries['teamID'] == 'ATL']\n",
        "df_plot = df_plot.groupby(by = 'yearID', ).mean()\n",
        "df_plot = df_plot.reset_index()\n",
        "df_plot.plot('yearID', 'salary', kind = 'line' )"
      ],
      "execution_count": 164,
      "outputs": [
        {
          "output_type": "execute_result",
          "data": {
            "text/plain": [
              "<matplotlib.axes._subplots.AxesSubplot at 0x7f1f96903290>"
            ]
          },
          "metadata": {
            "tags": []
          },
          "execution_count": 164
        },
        {
          "output_type": "display_data",
          "data": {
            "image/png": "[encoded data removed]",
            "text/plain": [
              "<Figure size 432x288 with 1 Axes>"
            ]
          },
          "metadata": {
            "tags": [],
            "needs_background": "light"
          }
        }
      ]
    },
    {
      "cell_type": "markdown",
      "metadata": {
        "id": "ZTGFUH6VJwh5"
      },
      "source": [
        "#### Seaborn"
      ]
    },
    {
      "cell_type": "markdown",
      "metadata": {
        "id": "2WjxEHh7Jwh5"
      },
      "source": [
        "(a) Append one more numeric feature to the data frame (can be\n",
        "generated randomly), then for team 'ATL', use the seaborn.pairplot to plot scatter plots among all numeric features in the data frame for team. "
      ]
    },
    {
      "cell_type": "code",
      "metadata": {
        "id": "Itc1EkM1Jwh5",
        "colab": {
          "base_uri": "https://localhost:8080/",
          "height": 567
        },
        "outputId": "f6edf6cd-3289-431e-a27d-9474f3fe13ae"
      },
      "source": [
        "import seaborn\n",
        "df_salaries['new column'] = np.random.randint(0,5, size=len(df_salaries))\n",
        "seaborn.pairplot(df_salaries)"
      ],
      "execution_count": 169,
      "outputs": [
        {
          "output_type": "execute_result",
          "data": {
            "text/plain": [
              "<seaborn.axisgrid.PairGrid at 0x7f1f7e284ad0>"
            ]
          },
          "metadata": {
            "tags": []
          },
          "execution_count": 169
        },
        {
          "output_type": "display_data",
          "data": {
            "image/png": "[encoded data removed]",
            "text/plain": [
              "<Figure size 540x540 with 12 Axes>"
            ]
          },
          "metadata": {
            "tags": [],
            "needs_background": "light"
          }
        }
      ]
    },
    {
      "cell_type": "markdown",
      "metadata": {
        "id": "9L-iMcwgJwh5"
      },
      "source": [
        "(b) For year 1985 and for each team, plot a boxplot to show how the salary distribute within a team."
      ]
    },
    {
      "cell_type": "code",
      "metadata": {
        "id": "p6chMVMdJwh5",
        "colab": {
          "base_uri": "https://localhost:8080/",
          "height": 363
        },
        "outputId": "6f95f260-3078-41bd-f4e6-8148393737f3"
      },
      "source": [
        "df_plot = df_salaries[df_salaries['yearID'] == 1985]\n",
        "seaborn.boxplot(df_plot['teamID'],df_plot['salary'])"
      ],
      "execution_count": 177,
      "outputs": [
        {
          "output_type": "stream",
          "text": [
            "/usr/local/lib/python3.7/dist-packages/seaborn/_decorators.py:43: FutureWarning: Pass the following variables as keyword args: x, y. From version 0.12, the only valid positional argument will be `data`, and passing other arguments without an explicit keyword will result in an error or misinterpretation.\n",
            "  FutureWarning\n"
          ],
          "name": "stderr"
        },
        {
          "output_type": "execute_result",
          "data": {
            "text/plain": [
              "<matplotlib.axes._subplots.AxesSubplot at 0x7f1f7c0ff610>"
            ]
          },
          "metadata": {
            "tags": []
          },
          "execution_count": 177
        },
        {
          "output_type": "display_data",
          "data": {
            "image/png": "[encoded data removed]",
            "text/plain": [
              "<Figure size 432x288 with 1 Axes>"
            ]
          },
          "metadata": {
            "tags": [],
            "needs_background": "light"
          }
        }
      ]
    },
    {
      "cell_type": "markdown",
      "metadata": {
        "id": "pBYyfBQ0Jwh5"
      },
      "source": [
        "(c) Read the offical documentation (https://seaborn.pydata.org/) to understand how lmplot, catplot, relplot, and jointplot works."
      ]
    },
    {
      "cell_type": "markdown",
      "metadata": {
        "id": "PzFU9AQmJwh6"
      },
      "source": [
        "### Jupyter Notebook"
      ]
    },
    {
      "cell_type": "markdown",
      "metadata": {
        "id": "Qy6f2E1IJwh6"
      },
      "source": [
        "#### Jupyter Notebook Extensions"
      ]
    },
    {
      "cell_type": "markdown",
      "metadata": {
        "id": "rqxibxr4Jwh6"
      },
      "source": [
        "Extensions such as the code formatter, table of content is to make your development more efficient. To explore it, please refer to https://github.com/ipython-contrib/jupyter_contrib_nbextensions."
      ]
    },
    {
      "cell_type": "markdown",
      "metadata": {
        "id": "IajUpviCJwh6"
      },
      "source": [
        "#### Jupyter Visual Debugger"
      ]
    },
    {
      "cell_type": "markdown",
      "metadata": {
        "id": "z4jmY3GfJwh6"
      },
      "source": [
        "The Pixie Debugger is a visual debugger for debugging on Jupyter Notebook. To explore it, please refer to https://medium.com/codait/the-visual-python-debugger-for-jupyter-notebooks-youve-always-wanted-761713babc62."
      ]
    },
    {
      "cell_type": "markdown",
      "metadata": {
        "id": "iqhIq-o5Jwh6"
      },
      "source": [
        "### Git and GitHub"
      ]
    },
    {
      "cell_type": "markdown",
      "metadata": {
        "id": "qCOciYEOJwh6"
      },
      "source": [
        "1. In the directory that where this jupyter notebook file locates in, init a Git repository.\n",
        "2. Checkout a new branch called dev and commit the current notebook within this branch.\n",
        "3. Merge the dev branch to the master branch (the default branch).\n",
        "4. Create a temporary repository (just for practicing and you can delete it later) in GitHub. \n",
        "5. Push new changes in the master branch to the remote repository created in step 4.\n",
        "6. Checkout the dev branch again and do some changes to your notebook, and then repeat step 3 and step 5."
      ]
    },
    {
      "cell_type": "code",
      "metadata": {
        "id": "8Z88Z094Jwh6"
      },
      "source": [
        ""
      ],
      "execution_count": null,
      "outputs": []
    },
    {
      "cell_type": "code",
      "metadata": {
        "id": "yJfs2KJfJwh7"
      },
      "source": [
        ""
      ],
      "execution_count": null,
      "outputs": []
    },
    {
      "cell_type": "code",
      "metadata": {
        "id": "Dz3m-MmFJwh7"
      },
      "source": [
        ""
      ],
      "execution_count": null,
      "outputs": []
    },
    {
      "cell_type": "code",
      "metadata": {
        "id": "s2-AqvutJwh7"
      },
      "source": [
        ""
      ],
      "execution_count": null,
      "outputs": []
    },
    {
      "cell_type": "code",
      "metadata": {
        "id": "DK76TS1_Jwh7"
      },
      "source": [
        ""
      ],
      "execution_count": null,
      "outputs": []
    }
  ]
}